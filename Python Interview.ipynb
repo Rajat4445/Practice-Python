{
 "cells": [
  {
   "cell_type": "markdown",
   "id": "aa9d6ca8",
   "metadata": {},
   "source": [
    "## Important Python Questions\n"
   ]
  },
  {
   "cell_type": "markdown",
   "id": "09bd546c",
   "metadata": {},
   "source": [
    "### 1.  Palindrome String: "
   ]
  },
  {
   "cell_type": "markdown",
   "id": "801b8ff4",
   "metadata": {},
   "source": [
    "Palindromes are the ones which are same in reverse and in their original form."
   ]
  },
  {
   "cell_type": "code",
   "execution_count": 1,
   "id": "e509414e",
   "metadata": {},
   "outputs": [
    {
     "name": "stdout",
     "output_type": "stream",
     "text": [
      "No, Nitin is not a Palindrome\n"
     ]
    }
   ],
   "source": [
    "def palindrome(s):                            ## By using a function\n",
    "    reverse = s[::-1]                        ## Best Approach\n",
    "    if s == reverse:\n",
    "        print(f\"Yes, {s} is a Palindrome \")\n",
    "        \n",
    "    else:\n",
    "        print(f'No, {s} is not a Palindrome')\n",
    "        \n",
    "\n",
    "s = 'Nitin'\n",
    "palindrome(s)"
   ]
  },
  {
   "cell_type": "code",
   "execution_count": 4,
   "id": "00e5eb88",
   "metadata": {},
   "outputs": [
    {
     "data": {
      "text/plain": [
       "False"
      ]
     },
     "execution_count": 4,
     "metadata": {},
     "output_type": "execute_result"
    }
   ],
   "source": [
    "## Another method: Using Indexing\n",
    "\n",
    "def palindrome(s):\n",
    "    length = len(s)\n",
    "    \n",
    "    for i in range(length):\n",
    "        if s[i] != s[length-i-1]:\n",
    "            return print('not palindrome')    ## basically this loops runs for the entire length and if it\n",
    "        # finds the index match is not there, it prints 'not palindrome', but if everything goes fine, it does not\n",
    "        # return any value, since there was no mismatch it prints the below output\n",
    "        \n",
    "    return print('Palindrome')\n",
    "\n",
    "s = 'aegyostygea'\n",
    "palindrome2(s)"
   ]
  },
  {
   "cell_type": "code",
   "execution_count": 3,
   "id": "118e98a5",
   "metadata": {},
   "outputs": [
    {
     "name": "stdout",
     "output_type": "stream",
     "text": [
      "n\n",
      "i\n",
      "t\n",
      "i\n",
      "n\n"
     ]
    },
    {
     "data": {
      "text/plain": [
       "True"
      ]
     },
     "execution_count": 3,
     "metadata": {},
     "output_type": "execute_result"
    }
   ],
   "source": [
    "## Method 3: Using Inbuilt function: Not recommmended\n",
    "\n",
    "def palindrome3(s):\n",
    "    reverse_s = reversed(s)       # Returns an object\n",
    "    \n",
    "    for i in reverse_s:\n",
    "        print(i)\n",
    "    \n",
    "    temp = ''.join(reversed(s))\n",
    "    \n",
    "    if s == temp:\n",
    "        return True\n",
    "    else:\n",
    "        return False\n",
    "    \n",
    "s = 'nitin'\n",
    "palindrome3(s)"
   ]
  },
  {
   "cell_type": "code",
   "execution_count": null,
   "id": "f72f3bd1",
   "metadata": {},
   "outputs": [],
   "source": [
    "## Method 4: Using While loop\n",
    "\n",
    "def palindrome4(s):\n",
    "    n = len(s)\n",
    "    first = 0\n",
    "    last = n - 1\n",
    "    \n",
    "    while (first < last):\n",
    "        if s[first] == s[last]:\n",
    "            first += 1       ## Increases the first by 1\n",
    "            last -= 1          ## Decreses the last by 1\n",
    "            return True\n",
    "        else:\n",
    "            return False\n",
    "        \n",
    "s = 'namin'\n",
    "palindrome4(s)\n",
    "\n",
    "## Think again!!\n",
    "\n",
    "def palin(s):\n",
    "    n = len(s)             ##7\n",
    "    f = 0    \n",
    "    l = n-1               ## 6\n",
    "    \n",
    "    while (f<l):\n",
    "        if s[f] != s[l]:\n",
    "            f += 1\n",
    "            l -= 1\n",
    "            return False\n",
    "        else:\n",
    "            return True\n",
    "            \n",
    "palin('aegyostygea')"
   ]
  },
  {
   "cell_type": "markdown",
   "id": "a2690bea",
   "metadata": {},
   "source": [
    "### Palindrome Number:"
   ]
  },
  {
   "cell_type": "code",
   "execution_count": 5,
   "id": "f8e61c0b",
   "metadata": {},
   "outputs": [
    {
     "name": "stdout",
     "output_type": "stream",
     "text": [
      "6\n",
      "6\n",
      "5\n",
      "65\n",
      "4\n",
      "654\n",
      "1\n",
      "6541\n"
     ]
    },
    {
     "data": {
      "text/plain": [
       "False"
      ]
     },
     "execution_count": 5,
     "metadata": {},
     "output_type": "execute_result"
    }
   ],
   "source": [
    "## Using while loop                     ## Best approach\n",
    "\n",
    "def palindrome6(n):\n",
    "    temp = n             ## 1456\n",
    "    rev_n = 0\n",
    "    \n",
    "    while (temp > 0):\n",
    "        digit = temp % 10\n",
    "        \n",
    "        rev_n = rev_n * 10 + digit       ## rev_n = 0*10 + 6\n",
    "        temp = temp // 10               ## Do not want decimal\n",
    "        \n",
    "    if n == rev_n:\n",
    "        return True\n",
    "    else:\n",
    "        return False\n",
    "    \n",
    "n = 1456\n",
    "palindrome6(n)\n"
   ]
  },
  {
   "cell_type": "markdown",
   "id": "60a7a26a",
   "metadata": {},
   "source": [
    "### 2.  Fibonnaci Series"
   ]
  },
  {
   "cell_type": "code",
   "execution_count": 1,
   "id": "57bb90f6",
   "metadata": {},
   "outputs": [
    {
     "name": "stdout",
     "output_type": "stream",
     "text": [
      "0\n",
      "1\n",
      "1\n",
      "2\n",
      "3\n",
      "5\n",
      "8\n",
      "13\n",
      "21\n",
      "34\n",
      "55\n",
      "89\n",
      "144\n",
      "233\n",
      "377\n"
     ]
    }
   ],
   "source": [
    "# Find the fibonacci series using while loop for 0 to nth number\n",
    "\n",
    "def fibonacci(n):           ## 0, 1, 1, 2, 3, 5 ... \n",
    "    a, b = 0, 1\n",
    "    print(a)\n",
    "    while (b < n):\n",
    "        print(b)\n",
    "        c = a + b           ## Using a third variable\n",
    "        a = b\n",
    "        b = c\n",
    "        \n",
    "fibonacci(500)\n",
    "        \n",
    "    "
   ]
  },
  {
   "cell_type": "code",
   "execution_count": 6,
   "id": "7e3a0ed2",
   "metadata": {},
   "outputs": [
    {
     "name": "stdout",
     "output_type": "stream",
     "text": [
      "0\n",
      "1\n",
      "1\n",
      "2\n",
      "3\n",
      "5\n",
      "8\n",
      "13\n",
      "21\n",
      "34\n",
      "55\n",
      "89\n",
      "144\n",
      "233\n"
     ]
    }
   ],
   "source": [
    "def fibonacci2(n):\n",
    "    a, b = 0, 1\n",
    "    print(a)\n",
    "    \n",
    "    while (b < n):\n",
    "        print(b)\n",
    "        a, b = b, a + b        ## Without using a third variable\n",
    "        \n",
    "fibonacci2(250)\n",
    "        \n"
   ]
  },
  {
   "cell_type": "code",
   "execution_count": 8,
   "id": "86954a56",
   "metadata": {},
   "outputs": [
    {
     "name": "stdout",
     "output_type": "stream",
     "text": [
      "0\n",
      "1\n",
      "1\n",
      "2\n",
      "3\n",
      "5\n",
      "8\n",
      "13\n",
      "21\n",
      "34\n"
     ]
    }
   ],
   "source": [
    "## By using for loop\n",
    "\n",
    "def fibonacci3(n):\n",
    "    a, b = 0, 1\n",
    "    if n == 1:\n",
    "        print(a)\n",
    "    else:\n",
    "        print(a)\n",
    "        print(b)\n",
    "        \n",
    "        for i in range(2, n):\n",
    "            c = a + b\n",
    "            a = b\n",
    "            b = c\n",
    "            print(c)\n",
    "            \n",
    "fibonacci3(10)             # Prints first 10 values"
   ]
  },
  {
   "cell_type": "code",
   "execution_count": 3,
   "id": "9149be86",
   "metadata": {},
   "outputs": [
    {
     "name": "stdout",
     "output_type": "stream",
     "text": [
      "0 1 1 2 3 5 8 13 21 34 "
     ]
    }
   ],
   "source": [
    "## By Using recursion           ## Best approach\n",
    "\n",
    "def fibonacci_rec(n):\n",
    "    if n <= 1:\n",
    "        return n\n",
    "    else:\n",
    "        return (fibonacci_rec(n - 1) + fibonacci_rec(n - 2))\n",
    "    \n",
    "    \n",
    "n = 10\n",
    "if n <= 0:\n",
    "    print('Invalid')\n",
    "    \n",
    "else:\n",
    "    for i in range(n):\n",
    "        print(fibonacci_rec(i), end = ' ')\n",
    "        \n"
   ]
  },
  {
   "cell_type": "markdown",
   "id": "9c97bc1a",
   "metadata": {},
   "source": [
    "### 3. Compress String"
   ]
  },
  {
   "cell_type": "code",
   "execution_count": 10,
   "id": "7c1c1687",
   "metadata": {},
   "outputs": [
    {
     "ename": "SyntaxError",
     "evalue": "unexpected EOF while parsing (<ipython-input-10-d618ccd781a5>, line 8)",
     "output_type": "error",
     "traceback": [
      "\u001b[0;36m  File \u001b[0;32m\"<ipython-input-10-d618ccd781a5>\"\u001b[0;36m, line \u001b[0;32m8\u001b[0m\n\u001b[0;31m    \u001b[0m\n\u001b[0m    ^\u001b[0m\n\u001b[0;31mSyntaxError\u001b[0m\u001b[0;31m:\u001b[0m unexpected EOF while parsing\n"
     ]
    }
   ],
   "source": [
    "## Input = aabbccaaaafffeiii           ## 23 Mins\n",
    "## Output = a2b2c2a4f3e1i3\n",
    "\n",
    "## By using for loop\n",
    "\n",
    "def compress(s):\n",
    "    \n",
    "    "
   ]
  },
  {
   "cell_type": "markdown",
   "id": "d704d8ee",
   "metadata": {},
   "source": [
    "### 4. FizzBuzz"
   ]
  },
  {
   "cell_type": "code",
   "execution_count": null,
   "id": "e00a35f7",
   "metadata": {},
   "outputs": [],
   "source": [
    "## If the number is divisible by 3, print Fizz                 (best approach)\n",
    "## If the number is divisible by 5, print Buzz\n",
    "## If the number is divisible by 15, print FizzBuzz\n",
    "## Else print the number\n",
    "\n",
    "\n",
    "## Using For loop\n",
    "\n",
    "def fizzbuzz(n):\n",
    "    for i in range(1, n + 1):\n",
    "        if i%3 == 0 and i%5 == 0:\n",
    "            print('Fizzbuzz')\n",
    "            \n",
    "        elif i%3 == 0:\n",
    "            print('Fizz')\n",
    "            \n",
    "        elif i%5 == 0:\n",
    "            print('Buzz')\n",
    "            \n",
    "        else:\n",
    "            print(i)\n",
    "            \n",
    "            \n",
    "fizzbuzz(20)\n",
    "            "
   ]
  },
  {
   "cell_type": "code",
   "execution_count": null,
   "id": "70056dea",
   "metadata": {},
   "outputs": [],
   "source": [
    "## By using dict                ## Check again 30 mins\n",
    "\n",
    "def fizzbuzz2(n):\n",
    "    d = {3: 'Fizz',\n",
    "         5: 'Buzz'}\n",
    "    \n",
    "    for i in range(1, n + 1):\n",
    "        result = ''\n",
    "        for k, v in d.items():\n",
    "            if i%k == 0:\n",
    "                result += v\n",
    "            if not result:\n",
    "                result = i\n",
    "            print(result)\n",
    "            \n",
    "fizzbuzz2(15)"
   ]
  },
  {
   "cell_type": "markdown",
   "id": "1a19fe03",
   "metadata": {},
   "source": [
    "### 5. Character Occurence"
   ]
  },
  {
   "cell_type": "code",
   "execution_count": null,
   "id": "6639767f",
   "metadata": {},
   "outputs": [],
   "source": [
    "## 1. Least repeating character in the string              ## 37 mins\n",
    "\n",
    "def least_char(s):\n",
    "    ch = {}\n",
    "    \n",
    "    for i in s:\n",
    "        if i in ch:\n",
    "            ch[i] = ch[i] + 1\n",
    "        else:\n",
    "            ch[i] = 1\n",
    "    print(ch)\n",
    "    \n",
    "    result = min(ch, key = ch.get)\n",
    "    print(result)\n",
    "\n",
    "s = 'aaabbbbcccjjjllllwoooouuuu'\n",
    "\n",
    "least_char(s)\n",
    "\n",
    "\n",
    "\n",
    "## Using inbulit function\n",
    "\n",
    "from collections import Counter\n",
    "\n",
    "s = 'aaabbbbcccjjjllllwoooouuuu'\n",
    "ch = Counter(s)\n",
    "result = min(ch, key = ch.get)\n",
    "\n",
    "print(result)\n",
    "\n",
    "\n",
    "## 2. Count any particular element\n",
    "## 3. Count of all elements\n"
   ]
  },
  {
   "cell_type": "markdown",
   "id": "bc8a50f3",
   "metadata": {},
   "source": [
    "### 6. Prime Numbers \n",
    "\n"
   ]
  },
  {
   "cell_type": "code",
   "execution_count": 4,
   "id": "1591cf3a",
   "metadata": {},
   "outputs": [
    {
     "name": "stdout",
     "output_type": "stream",
     "text": [
      "No, it is not a prime number\n"
     ]
    }
   ],
   "source": [
    "## 1. To check if a number is prime or not (A number divisible by 1 or itself)\n",
    "\n",
    "# Using flag\n",
    "\n",
    "def prime_number(n):\n",
    "    flag = False\n",
    "    \n",
    "    if n > 1:\n",
    "        for i in range(2, (n//2 + 1)):\n",
    "            if n%i == 0:\n",
    "                flag = True\n",
    "                break\n",
    "    if flag:\n",
    "        return \"No, it is not a prime number\"\n",
    "    else:\n",
    "        return \"Yes, it is a prime number\"\n",
    "    \n",
    "print(prime_number(4))"
   ]
  },
  {
   "cell_type": "code",
   "execution_count": null,
   "id": "4fa5b8b2",
   "metadata": {},
   "outputs": [],
   "source": [
    "## For else:      (better approach)\n",
    "\n",
    "def prime_n(n):\n",
    "    if n > 1:\n",
    "        for i in range(2, (n//2 + 1)):\n",
    "            if n%i == 0:\n",
    "                print('No, it is not a prime number')\n",
    "                break\n",
    "                \n",
    "        else:\n",
    "            print('yes, it is a prime number')\n",
    "    else:\n",
    "        print('No, it is not a prime number')\n",
    "        \n",
    "print(prime_n(35))"
   ]
  },
  {
   "cell_type": "code",
   "execution_count": null,
   "id": "bf18911e",
   "metadata": {},
   "outputs": [],
   "source": [
    "## Find the prime numbers between a range      45 min\n",
    "\n"
   ]
  }
 ],
 "metadata": {
  "kernelspec": {
   "display_name": "Python 3 (ipykernel)",
   "language": "python",
   "name": "python3"
  },
  "language_info": {
   "codemirror_mode": {
    "name": "ipython",
    "version": 3
   },
   "file_extension": ".py",
   "mimetype": "text/x-python",
   "name": "python",
   "nbconvert_exporter": "python",
   "pygments_lexer": "ipython3",
   "version": "3.9.13"
  }
 },
 "nbformat": 4,
 "nbformat_minor": 5
}
